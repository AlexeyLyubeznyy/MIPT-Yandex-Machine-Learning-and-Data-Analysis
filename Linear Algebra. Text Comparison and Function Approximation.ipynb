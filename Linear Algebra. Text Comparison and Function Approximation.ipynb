{
 "cells": [
  {
   "cell_type": "markdown",
   "metadata": {},
   "source": [
    "# Линейная алгебра: сходство текстов и аппроксимация функций"
   ]
  },
  {
   "cell_type": "markdown",
   "metadata": {},
   "source": [
    "## Материалы\n",
    "Справка по функциям пакета scipy.linalg: http://docs.scipy.org/doc/scipy/reference/linalg.html\n",
    "\n",
    "Справка по работе с файлами в Python: https://docs.python.org/2/tutorial/inputoutput.html#reading-and-writing-files\n",
    "\n",
    "Справка по регулярным выражениям в Python (если вы захотите узнать про них чуть больше): https://docs.python.org/2/library/re.html"
   ]
  },
  {
   "cell_type": "markdown",
   "metadata": {},
   "source": [
    "### Задача 1: сравнение предложений\n",
    "Дан набор предложений, скопированных с Википедии. Каждое из них имеет \"кошачью тему\" в одном из трех смыслов:\n",
    "\n",
    "1. кошки (животные)\n",
    "\n",
    "2. UNIX-утилита cat для вывода содержимого файлов\n",
    "\n",
    "3. версии операционной системы OS X, названные в честь семейства кошачьих\n",
    "\n",
    "Ваша задача — найти два предложения, которые ближе всего по смыслу к расположенному в самой первой строке. В качестве меры близости по смыслу мы будем использовать косинусное расстояние."
   ]
  },
  {
   "cell_type": "markdown",
   "metadata": {},
   "source": [
    "#### Решение:"
   ]
  },
  {
   "cell_type": "markdown",
   "metadata": {},
   "source": [
    "Импортируем необходимые библиотеки:"
   ]
  },
  {
   "cell_type": "code",
   "execution_count": 2,
   "metadata": {},
   "outputs": [],
   "source": [
    "import re\n",
    "import numpy as np\n",
    "from scipy.spatial import distance"
   ]
  },
  {
   "cell_type": "markdown",
   "metadata": {},
   "source": [
    "Считываем предложения из текстового файла:"
   ]
  },
  {
   "cell_type": "code",
   "execution_count": 21,
   "metadata": {},
   "outputs": [],
   "source": [
    "handle = open('sentences.txt')\n",
    "data = list()\n",
    "text = list()\n",
    "for string in handle: #для каждой строки из файла\n",
    "    string = string.rstrip().lower() #удаляем перенос на новую строку в конце каждой строки и делаем все буквы строчными\n",
    "    text.append(string)\n",
    "    string = re.split('[^a-z]', string) #с помощью регулярных выражений разбиваем каждую строку на слова:\n",
    "    #разделителем мы приняли равными все, что не является буквами\n",
    "    data.append(string) #из полученных разбитых строк на слова делаем массив"
   ]
  },
  {
   "cell_type": "markdown",
   "metadata": {},
   "source": [
    "Создаем единый массив со всеми словами из файла:"
   ]
  },
  {
   "cell_type": "code",
   "execution_count": 7,
   "metadata": {},
   "outputs": [],
   "source": [
    "words = list()\n",
    "for sentence in data:\n",
    "    for word in sentence:\n",
    "        if word != '':\n",
    "            words.append(word)"
   ]
  },
  {
   "cell_type": "markdown",
   "metadata": {},
   "source": [
    "Избавляемся от пропущенных значений через генератор массивов: "
   ]
  },
  {
   "cell_type": "code",
   "execution_count": 9,
   "metadata": {},
   "outputs": [],
   "source": [
    "final_data = list()\n",
    "for sentence in data:\n",
    "    sentence = [word for word in sentence if word != '']\n",
    "    final_data.append(sentence)"
   ]
  },
  {
   "cell_type": "markdown",
   "metadata": {},
   "source": [
    "Считаем, сколько раз каждое слово появлялось в файле:"
   ]
  },
  {
   "cell_type": "code",
   "execution_count": 10,
   "metadata": {},
   "outputs": [],
   "source": [
    "indeces = dict()\n",
    "for word in words:\n",
    "    indeces[word] = indeces.get(word, 0) + 1"
   ]
  },
  {
   "cell_type": "markdown",
   "metadata": {},
   "source": [
    "Составляем матрицу из нулей размером n * d, где n — число предложений в файле, d — число уникальных слов в файле:"
   ]
  },
  {
   "cell_type": "code",
   "execution_count": 11,
   "metadata": {},
   "outputs": [],
   "source": [
    "sentences_count = len(final_data)\n",
    "words_count = len(indeces)\n",
    "matrix = np.zeros((sentences_count, words_count))"
   ]
  },
  {
   "cell_type": "markdown",
   "metadata": {},
   "source": [
    "Заполняем матрицу количеством вхождений j-го слова в i-е предложение:"
   ]
  },
  {
   "cell_type": "code",
   "execution_count": 12,
   "metadata": {},
   "outputs": [],
   "source": [
    "i = 0\n",
    "for sentence in final_data: #считываем каждое предложение\n",
    "    if i == 0: #первая строка\n",
    "        j = 0 #обнуляем счетчик столбцов, чтобы начать с самого первого столбца\n",
    "        for word in indeces: #для каждого слова из обшего набора слов текстового файла\n",
    "            if j == 0: #первый столбец\n",
    "                for word_in_sentence in sentence: #ищем слово-близнец среди слов предложения\n",
    "                    if word == word_in_sentence:\n",
    "                        matrix[i][j] += 1 #считаем, сколько раз это слово встречается в предложении\n",
    "            else: #со второго столбца и дальше вправо\n",
    "                for word_in_sentence in sentence: #ищем слово-близнец среди слов предложения\n",
    "                    if word == word_in_sentence:\n",
    "                        matrix[i][j] += 1 #считаем, сколько раз это слово встречается в предложении\n",
    "            j += 1\n",
    "    else: #со второй строки и дальше вниз\n",
    "        j = 0 #обнуляем счетчик столбцов, чтобы начать с самого первого столбца\n",
    "        for word in indeces: #для каждого слова из обшего набора слов текстового файла\n",
    "            if j == 0: #первый столбец\n",
    "                for word_in_sentence in sentence: #ищем слово-близнец среди слов предложения\n",
    "                    if word == word_in_sentence:\n",
    "                        matrix[i][j] += 1 #считаем, сколько раз это слово встречается в предложении\n",
    "            else: #со второго столбца и дальше\n",
    "                for word_in_sentence in sentence: #ищем слово-близнец среди слов предложения\n",
    "                    if word == word_in_sentence:\n",
    "                        matrix[i][j] += 1 #считаем, сколько раз это слово встречается в предложении\n",
    "            j += 1\n",
    "    i += 1"
   ]
  },
  {
   "cell_type": "markdown",
   "metadata": {},
   "source": [
    "Вычисляем косинусное расстояние от самой первой строки до всех остальных:"
   ]
  },
  {
   "cell_type": "code",
   "execution_count": 13,
   "metadata": {},
   "outputs": [],
   "source": [
    "cos_distance = list()\n",
    "for i in range(len(matrix)-1):\n",
    "    cos_distance.append(distance.cosine(matrix[0], matrix[i+1]))"
   ]
  },
  {
   "cell_type": "markdown",
   "metadata": {},
   "source": [
    "Вычисляем предложения с минимальным косинусным расстоянием:"
   ]
  },
  {
   "cell_type": "code",
   "execution_count": 14,
   "metadata": {},
   "outputs": [],
   "source": [
    "min_1 = min(cos_distance)\n",
    "for i in range(len(cos_distance)):    \n",
    "    if min_1 == cos_distance[i]:\n",
    "        min_1_position = i + 1 #индекс предложения из исходного текстового файла\n",
    "\n",
    "search_for_min_2 = [cos_distance[i] for i in range(len(cos_distance)) if i != (min_1_position - 1)]\n",
    "min_2 = min(search_for_min_2)\n",
    "for i in range(len(search_for_min_2)):    \n",
    "    if min_2 == search_for_min_2[i]:\n",
    "        if i < (min_1_position - 1):\n",
    "            min_2_position = i + 1 #индекс предложения из исходного текстового файла\n",
    "        if i >= (min_1_position - 1):\n",
    "            min_2_position = i + 2 #индекс предложения из исходного текстового файла"
   ]
  },
  {
   "cell_type": "markdown",
   "metadata": {},
   "source": [
    "Получаем требуемый ответ и записываем ответ в файл:"
   ]
  },
  {
   "cell_type": "code",
   "execution_count": 35,
   "metadata": {},
   "outputs": [
    {
     "name": "stdout",
     "output_type": "stream",
     "text": [
      "Первое предложение:\n",
      " in comparison to dogs, cats have not undergone major changes during the domestication process. \n",
      "\n",
      "Самые близкие по смыслу предложения:\n",
      "1. Индекс предложения в тексте: 6 \n",
      " domestic cats are similar in size to the other members of the genus felis, typically weighing between 4 and 5 kg (8.8 and 11.0 lb). \n",
      "\n",
      "2. Индекс предложения в тексте: 4 \n",
      " in one, people deliberately tamed cats in a process of artificial selection, as they were useful predators of vermin. \n",
      "\n"
     ]
    }
   ],
   "source": [
    "print('Первое предложение:\\n', text[0], '\\n')\n",
    "print('Самые близкие по смыслу предложения:')\n",
    "print('1. Индекс предложения в тексте:', min_1_position, '\\n', text[min_1_position], '\\n')\n",
    "\n",
    "print('2. Индекс предложения в тексте:', min_2_position, '\\n', text[min_2_position], '\\n')"
   ]
  },
  {
   "cell_type": "markdown",
   "metadata": {},
   "source": [
    "### Задача 2: аппроксимация функции"
   ]
  },
  {
   "cell_type": "markdown",
   "metadata": {},
   "source": [
    "Рассмотрим сложную математическую функцию на отрезке [1, 15]:\n",
    "\n",
    "f(x) = sin(x / 5) * exp(x / 10) + 5 * exp(-x / 2)"
   ]
  },
  {
   "cell_type": "markdown",
   "metadata": {},
   "source": [
    "1. Сформируйте систему линейных уравнений (то есть задайте матрицу коэффициентов A и свободный вектор b) для многочлена первой степени, который должен совпадать с функцией f в точках 1 и 15. Решите данную систему с помощью функции scipy.linalg.solve. Нарисуйте функцию f и полученный многочлен. Хорошо ли он приближает исходную функцию?\n",
    "\n",
    "2. Повторите те же шаги для многочлена второй степени, который совпадает с функцией f в точках 1, 8 и 15. Улучшилось ли качество аппроксимации?\n",
    "\n",
    "3. Повторите те же шаги для многочлена третьей степени, который совпадает с функцией f в точках 1, 4, 10 и 15. Хорошо ли он аппроксимирует функцию? Коэффициенты данного многочлена (четыре числа в следующем порядке: w_0, w_1, w_2, w_3) являются ответом на задачу. Округлять коэффициенты не обязательно, но при желании можете произвести округление до второго знака (т.е. до числа вида 0.42)\n",
    "\n",
    "\n",
    "Запишите полученные числа в файл, разделив пробелами. Обратите внимание, что файл должен состоять из одной строки, в конце которой не должно быть переноса. Пример файла с решением вы можете найти в конце задания (submission-2.txt)."
   ]
  },
  {
   "cell_type": "markdown",
   "metadata": {},
   "source": [
    "#### Решение:"
   ]
  },
  {
   "cell_type": "markdown",
   "metadata": {},
   "source": [
    "Импортируем необходимые библиотеки:"
   ]
  },
  {
   "cell_type": "code",
   "execution_count": 17,
   "metadata": {},
   "outputs": [],
   "source": [
    "import matplotlib.pylab as plt\n",
    "from scipy import linalg\n",
    "import numpy as np"
   ]
  },
  {
   "cell_type": "markdown",
   "metadata": {},
   "source": [
    "Зададим функцию f(x):"
   ]
  },
  {
   "cell_type": "code",
   "execution_count": 37,
   "metadata": {},
   "outputs": [],
   "source": [
    "def f(x):\n",
    "    return (np.sin(x / 5) * np.exp(x / 10) + 5 * np.exp(-x / 2))"
   ]
  },
  {
   "cell_type": "markdown",
   "metadata": {},
   "source": [
    "Построим систему линейных уравнений для двух точек f(x): 1 и 15."
   ]
  },
  {
   "cell_type": "code",
   "execution_count": 39,
   "metadata": {},
   "outputs": [],
   "source": [
    "x1 = 1\n",
    "x2 = 15"
   ]
  },
  {
   "cell_type": "markdown",
   "metadata": {},
   "source": [
    "Для этого построим матрицу коэффициентов А:"
   ]
  },
  {
   "cell_type": "code",
   "execution_count": 40,
   "metadata": {},
   "outputs": [
    {
     "data": {
      "text/plain": [
       "array([[ 1,  1],\n",
       "       [ 1, 15]])"
      ]
     },
     "execution_count": 40,
     "metadata": {},
     "output_type": "execute_result"
    }
   ],
   "source": [
    "a = np.array([[1, x1], [1, x2]])\n",
    "a"
   ]
  },
  {
   "cell_type": "markdown",
   "metadata": {},
   "source": [
    "И составим вектор-столбец из свободных членов:"
   ]
  },
  {
   "cell_type": "code",
   "execution_count": 42,
   "metadata": {},
   "outputs": [
    {
     "data": {
      "text/plain": [
       "array([3.25221687, 0.63522142])"
      ]
     },
     "execution_count": 42,
     "metadata": {},
     "output_type": "execute_result"
    }
   ],
   "source": [
    "b = np.array([f(x1), f(x2)])\n",
    "b"
   ]
  },
  {
   "cell_type": "markdown",
   "metadata": {},
   "source": [
    "Решение системы уравнений находится в одну строчку:"
   ]
  },
  {
   "cell_type": "code",
   "execution_count": 43,
   "metadata": {},
   "outputs": [
    {
     "data": {
      "text/plain": [
       "array([ 3.43914511, -0.18692825])"
      ]
     },
     "execution_count": 43,
     "metadata": {},
     "output_type": "execute_result"
    }
   ],
   "source": [
    "w = linalg.solve(a, b)\n",
    "w"
   ]
  },
  {
   "cell_type": "markdown",
   "metadata": {},
   "source": [
    "Теперь для наглядности построим на одном графике исходную функцию и аппроксимирующую (наш многочлен):"
   ]
  },
  {
   "cell_type": "code",
   "execution_count": 44,
   "metadata": {},
   "outputs": [
    {
     "data": {
      "image/png": "[encoded data removed]",
      "text/plain": [
       "<Figure size 432x288 with 1 Axes>"
      ]
     },
     "metadata": {
      "needs_background": "light"
     },
     "output_type": "display_data"
    }
   ],
   "source": [
    "def d(x):\n",
    "    return (w[0] + w[1] * x)\n",
    "\n",
    "x = np.arange(1.0, 15.0, 0.1)\n",
    "plt.plot(x, f(x))\n",
    "plt.plot(x, d(x))\n",
    "plt.xlabel('абсцисса')\n",
    "plt.ylabel('ордината')\n",
    "plt.show()"
   ]
  },
  {
   "cell_type": "markdown",
   "metadata": {},
   "source": [
    "Как прекрасно видно на графике мы получили ровно то, что и писали. Теперь усложним задачу: построим аппроксимирующую функцию через три точки (1, 8 и 15)."
   ]
  },
  {
   "cell_type": "code",
   "execution_count": 45,
   "metadata": {},
   "outputs": [
    {
     "data": {
      "image/png": "[encoded data removed]",
      "text/plain": [
       "<Figure size 432x288 with 1 Axes>"
      ]
     },
     "metadata": {
      "needs_background": "light"
     },
     "output_type": "display_data"
    }
   ],
   "source": [
    "x1 = 1\n",
    "x2 = 8\n",
    "x3 = 15\n",
    "\n",
    "a = np.array([[1, x1, x1 ** 2], [1, x2, x2 ** 2], [1, x3, x3 ** 2]])\n",
    "b = np.array([f(x1), f(x2), f(x3)])\n",
    "w = linalg.solve(a, b)\n",
    "\n",
    "def d(x):\n",
    "    return (w[0] + w[1] * x + w[2] * (x ** 2))\n",
    "\n",
    "x = np.arange(1.0, 15.0, 0.1)\n",
    "plt.plot(x, f(x))\n",
    "plt.plot(x, d(x))\n",
    "plt.xlabel('абсцисса')\n",
    "plt.ylabel('ордината')\n",
    "plt.show()"
   ]
  },
  {
   "cell_type": "markdown",
   "metadata": {},
   "source": [
    "Наконец, построим аппроксимирующую функцию через четыре точки (1, 4, 10 и 15)."
   ]
  },
  {
   "cell_type": "code",
   "execution_count": 46,
   "metadata": {},
   "outputs": [
    {
     "data": {
      "image/png": "[encoded data removed]",
      "text/plain": [
       "<Figure size 432x288 with 1 Axes>"
      ]
     },
     "metadata": {
      "needs_background": "light"
     },
     "output_type": "display_data"
    },
    {
     "data": {
      "text/plain": [
       "array([ 4.36264154, -1.29552587,  0.19333685, -0.00823565])"
      ]
     },
     "execution_count": 46,
     "metadata": {},
     "output_type": "execute_result"
    }
   ],
   "source": [
    "x1 = 1\n",
    "x2 = 4\n",
    "x3 = 10\n",
    "x4 = 15\n",
    "\n",
    "a = np.array([[1, x1, x1 ** 2, x1 ** 3], [1, x2, x2 ** 2, x2 ** 3], [1, x3, x3 ** 2, x3 ** 3], [1, x4, x4 ** 2, x4 ** 3]])\n",
    "b = np.array([f(x1), f(x2), f(x3), f(x4)])\n",
    "w = linalg.solve(a, b)\n",
    "\n",
    "def d(x):\n",
    "    return (w[0] + w[1] * x + w[2] * (x ** 2) + w[3] * (x ** 3))\n",
    "\n",
    "x = np.arange(1.0, 15.0, 0.1)\n",
    "plt.plot(x, f(x))\n",
    "plt.plot(x, d(x))\n",
    "plt.xlabel('абсцисса')\n",
    "plt.ylabel('ордината')\n",
    "plt.show()\n",
    "w"
   ]
  }
 ],
 "metadata": {
  "kernelspec": {
   "display_name": "Python 3",
   "language": "python",
   "name": "python3"
  },
  "language_info": {
   "codemirror_mode": {
    "name": "ipython",
    "version": 3
   },
   "file_extension": ".py",
   "mimetype": "text/x-python",
   "name": "python",
   "nbconvert_exporter": "python",
   "pygments_lexer": "ipython3",
   "version": "3.7.3"
  }
 },
 "nbformat": 4,
 "nbformat_minor": 2
}
